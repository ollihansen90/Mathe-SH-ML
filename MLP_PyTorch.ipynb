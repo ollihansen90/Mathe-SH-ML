{
  "nbformat": 4,
  "nbformat_minor": 0,
  "metadata": {
    "colab": {
      "provenance": [],
      "authorship_tag": "ABX9TyOyjmo0E5nBdEVQMiaYcuJB",
      "include_colab_link": true
    },
    "kernelspec": {
      "name": "python3",
      "display_name": "Python 3"
    },
    "language_info": {
      "name": "python"
    }
  },
  "cells": [
    {
      "cell_type": "markdown",
      "metadata": {
        "id": "view-in-github",
        "colab_type": "text"
      },
      "source": [
        "<a href=\"https://colab.research.google.com/github/ollihansen90/Mathe-SH-ML/blob/main/MLP_PyTorch.ipynb\" target=\"_parent\"><img src=\"https://colab.research.google.com/assets/colab-badge.svg\" alt=\"Open In Colab\"/></a>"
      ]
    },
    {
      "cell_type": "markdown",
      "source": [
        "# PyTorch"
      ],
      "metadata": {
        "id": "6uohbvlIo9Gm"
      }
    },
    {
      "cell_type": "markdown",
      "source": [
        "## Datensatz"
      ],
      "metadata": {
        "id": "csiGMNqOo_94"
      }
    },
    {
      "cell_type": "code",
      "execution_count": null,
      "metadata": {
        "id": "BGW__AGvn3Lv"
      },
      "outputs": [],
      "source": [
        "import torch\n",
        "import torch.nn as nn\n",
        "import matplotlib.pyplot as plt\n",
        "\n",
        "N = 1000\n",
        "data = 2*torch.rand(N,2)-1\n",
        "label = torch.zeros(N)\n",
        "\n",
        "\n",
        "label[torch.linalg.norm(data, dim=-1)<0.8] = 1\n",
        "rel_anzahl = torch.zeros(N)\n",
        "r = torch.sum(label)/N\n",
        "print(r)\n",
        "rel_anzahl[label==1] = 1-r\n",
        "rel_anzahl[label==0] = r\n",
        "\n",
        "plt.figure()\n",
        "plt.plot(data[label==0, 0], data[label==0, 1], \"b.\")\n",
        "plt.plot(data[label==1, 0], data[label==1, 1], \"r.\")\n",
        "plt.axis(\"equal\")\n",
        "plt.show()"
      ]
    },
    {
      "cell_type": "markdown",
      "source": [
        "## PyTorch-Model (Beispiel)"
      ],
      "metadata": {
        "id": "WFBj185bpCHn"
      }
    },
    {
      "cell_type": "code",
      "source": [
        "class MLP(nn.Module):\n",
        "    def __init__(self, innerdim=4):\n",
        "        super().__init__()\n",
        "        self.layer1 = nn.Linear(2,innerdim)\n",
        "        self.layer2 = nn.Linear(innerdim,1)\n",
        "        self.act = nn.Sigmoid()\n",
        "    \n",
        "    def forward(self, x):\n",
        "        out = self.act(self.layer2(self.act(self.layer1(x))))\n",
        "        return out\n",
        "\n",
        "n_epochs = 200\n",
        "model = MLP(innerdim=10)\n",
        "optimizer = torch.optim.Adam(model.parameters(), lr=1e-1)\n",
        "criterion = nn.BCELoss()\n",
        "lossliste = torch.zeros(n_epochs)\n",
        "\n",
        "for epoch in range(n_epochs):\n",
        "    optimizer.zero_grad()\n",
        "    output = model(data).squeeze()\n",
        "    loss = criterion(output, label)\n",
        "    loss.backward()\n",
        "    optimizer.step()\n",
        "    lossliste[epoch] = loss.item()\n",
        "    lableout = output>0.5   \n",
        "\n",
        "plt.figure()\n",
        "plt.plot(lossliste)\n",
        "plt.show()\n",
        "\n",
        "plt.figure()\n",
        "plt.plot(data[lableout==0, 0], data[lableout==0, 1], \"b.\")\n",
        "plt.plot(data[lableout==1, 0], data[lableout==1, 1], \"r.\")\n",
        "plt.axis(\"equal\")\n",
        "plt.show()\n",
        "print(torch.sum(lableout==label)/N)"
      ],
      "metadata": {
        "id": "VKda-gcJn-oG"
      },
      "execution_count": null,
      "outputs": []
    },
    {
      "cell_type": "code",
      "source": [],
      "metadata": {
        "id": "4xZRZlvYpHcY"
      },
      "execution_count": null,
      "outputs": []
    }
  ]
}