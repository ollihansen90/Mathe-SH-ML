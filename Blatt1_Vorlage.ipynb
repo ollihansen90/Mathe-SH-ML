{
  "nbformat": 4,
  "nbformat_minor": 0,
  "metadata": {
    "colab": {
      "provenance": [],
      "collapsed_sections": [],
      "include_colab_link": true
    },
    "kernelspec": {
      "name": "python3",
      "display_name": "Python 3"
    },
    "language_info": {
      "name": "python"
    }
  },
  "cells": [
    {
      "cell_type": "markdown",
      "metadata": {
        "id": "view-in-github",
        "colab_type": "text"
      },
      "source": [
        "<a href=\"https://colab.research.google.com/github/ollihansen90/Mathe-SH-ML/blob/main/Blatt1_Vorlage.ipynb\" target=\"_parent\"><img src=\"https://colab.research.google.com/assets/colab-badge.svg\" alt=\"Open In Colab\"/></a>"
      ]
    },
    {
      "cell_type": "markdown",
      "source": [
        "## Aufgabe 3\n",
        "\n",
        "1.   Programmiere die Matrix-Vektor-Multiplikation per Hand.\n",
        "2.   Programmiere eine zweite Version mit vertauschter Schleifenreihenfolge.\n",
        "3.   Nutze *numpy* für die Matrix-Vektor-Multiplikation.\n",
        "4.   Nutze zum Beispiel die Library *time* um die Laufzeiten zu vergleichen. Dafür kann die selbe Berechnung einfach $100\\, 000$ Mal oder öfter durchgeführt werden.\n",
        "\n",
        "\n",
        "\n",
        "\n"
      ],
      "metadata": {
        "id": "DFEHMbvCjwZd"
      }
    },
    {
      "cell_type": "code",
      "execution_count": null,
      "metadata": {
        "id": "qzQTBZQWjrcs"
      },
      "outputs": [],
      "source": [
        "# Wir programmieren die Matrix-Vektor-Multiplikation zuerst per Hand\n",
        "\n",
        "import numpy as np\n",
        "\n",
        "def matvec1(A,B):\n",
        "  # A ist Matrix und B ein Vektor\n",
        "\n",
        "  # Zuerst muessen wir die Groeße der Matrizen bestimmen \n",
        "  #shapeA= #ToDo\n",
        "  #shapeB= #ToDo\n",
        "\n",
        "  # Wir testen, ob für die Größen die Matrix-Vektor-Multiplikation erfuellt ist.\n",
        "  # (optional)\n",
        "  '''\n",
        "  if(...)\n",
        "  '''\n",
        "  # Wir geben die MAtrix C\n",
        "  return 0\n",
        "\n",
        "def matvec2(A,B):\n",
        "  # Wir programmieren die gleiche Funktion wie eben,\n",
        "  # nur mit anderer Schleifenreihenfolge\n",
        "\n",
        "  return 0\n"
      ]
    },
    {
      "cell_type": "code",
      "source": [
        "# Wir testen unsere Implementierung\n",
        "A = np.zeros((2,3))\n",
        "B = np.zeros((3,1))\n",
        "\n",
        "A[0,0] = 1\n",
        "A[0,1] = 2\n",
        "A[0,2] = 4\n",
        "A[1,0] = 2\n",
        "A[1,1] = 4\n",
        "A[1,2] = 5\n",
        "B[0,0] = 2\n",
        "B[1,0] = 4\n",
        "B[2,0] = 5\n",
        "print('variante1',matvec1(A,B))\n",
        "print('variante2',matvec2(A,B))"
      ],
      "metadata": {
        "colab": {
          "base_uri": "https://localhost:8080/"
        },
        "id": "Cf8MMMajkngy",
        "outputId": "2b06f8c5-a09c-4775-a24a-024e5b743791"
      },
      "execution_count": null,
      "outputs": [
        {
          "output_type": "stream",
          "name": "stdout",
          "text": [
            "variante1 0\n",
            "variante2 0\n"
          ]
        }
      ]
    },
    {
      "cell_type": "markdown",
      "source": [
        "Die Vektoren sollten in beiden Fällen [[30.][45.]] in diesem oder einem ähnlichem Format sein"
      ],
      "metadata": {
        "id": "NZZMOP1skt5n"
      }
    },
    {
      "cell_type": "code",
      "source": [
        "# Nun machen wir den Geschwindigkeitstest\n",
        "# Dafuer erstellen wir Aufgaben mit vielen Rechnungen\n",
        "import random\n",
        "n = 10000 # Zahl kann fuer laengere/kuerzere Rechnung angepasst werden\n",
        "A = np.zeros((n,n))\n",
        "B = np.zeros((n,1))\n",
        "# Zufallsvektoren erstllen\n",
        "for i in range(0,n):\n",
        "  for j in range(0,n):\n",
        "    A[i,j] = random.random()\n",
        "  B[i,0] = random.random()\n",
        "\n",
        "print('A',A)"
      ],
      "metadata": {
        "colab": {
          "base_uri": "https://localhost:8080/"
        },
        "id": "nwRJIEheksSF",
        "outputId": "53bd0f6d-9cdc-4a56-c187-25700a1a5c04"
      },
      "execution_count": null,
      "outputs": [
        {
          "output_type": "stream",
          "name": "stdout",
          "text": [
            "A [[0.37308096 0.94732974 0.87174242 ... 0.99305992 0.78187775 0.22646776]\n",
            " [0.06302271 0.41706512 0.23024126 ... 0.7494299  0.3687625  0.49796124]\n",
            " [0.52097518 0.73523372 0.55345853 ... 0.16745235 0.26134429 0.63443267]\n",
            " ...\n",
            " [0.30573378 0.69200495 0.51444443 ... 0.81948391 0.09129994 0.38783477]\n",
            " [0.54522554 0.67598237 0.06001934 ... 0.0408317  0.05431723 0.99856397]\n",
            " [0.23764968 0.65175829 0.03301844 ... 0.62737497 0.28988686 0.46843043]]\n"
          ]
        }
      ]
    },
    {
      "cell_type": "code",
      "source": [
        "import time\n",
        "\n",
        "start_time = time.time()\n",
        "matvec1(A,B)\n",
        "end_time = time.time()\n",
        "print('elapsed time',end_time-start_time)\n",
        "\n",
        "start_time = time.time()\n",
        "matvec2(A,B)\n",
        "end_time = time.time()\n",
        "print('elapsed time',end_time-start_time)\n",
        "\n",
        "start_time = time.time()\n",
        "# ToDo: Matrix-Vektor-Multiplikation aus Python nutzen\n",
        "end_time = time.time()\n",
        "print('elapsed time',end_time-start_time)"
      ],
      "metadata": {
        "colab": {
          "base_uri": "https://localhost:8080/"
        },
        "id": "oNQpAYCilPK_",
        "outputId": "43c6f45c-4857-421b-8288-3642511167c4"
      },
      "execution_count": null,
      "outputs": [
        {
          "output_type": "stream",
          "name": "stdout",
          "text": [
            "elapsed time 9.250640869140625e-05\n",
            "elapsed time 0.00011515617370605469\n",
            "elapsed time 5.91278076171875e-05\n"
          ]
        }
      ]
    },
    {
      "cell_type": "code",
      "source": [],
      "metadata": {
        "id": "Kk-LzlGBlbnG"
      },
      "execution_count": null,
      "outputs": []
    }
  ]
}