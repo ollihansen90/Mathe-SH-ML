{
  "nbformat": 4,
  "nbformat_minor": 0,
  "metadata": {
    "colab": {
      "provenance": [],
      "collapsed_sections": [],
      "authorship_tag": "ABX9TyMRdUtx+SLA0EA+xEVLaweG",
      "include_colab_link": true
    },
    "kernelspec": {
      "name": "python3",
      "display_name": "Python 3"
    },
    "language_info": {
      "name": "python"
    }
  },
  "cells": [
    {
      "cell_type": "markdown",
      "metadata": {
        "id": "view-in-github",
        "colab_type": "text"
      },
      "source": [
        "<a href=\"https://colab.research.google.com/github/ollihansen90/Mathe-SH-ML/blob/main/Rosenbrock.ipynb\" target=\"_parent\"><img src=\"https://colab.research.google.com/assets/colab-badge.svg\" alt=\"Open In Colab\"/></a>"
      ]
    },
    {
      "cell_type": "code",
      "execution_count": 2,
      "metadata": {
        "id": "G0es48E-b0zt"
      },
      "outputs": [],
      "source": [
        "import numpy as np\n",
        "import matplotlib.pyplot as plt\n",
        "\n",
        "N = 100\n",
        "base = np.linspace(-2,2, num=N)\n",
        "mapbase = np.reshape(np.stack(np.meshgrid(base, base)).T, (N**2, 2))\n",
        "\n",
        "def getimg(data):\n",
        "    \"\"\"\n",
        "    Verwandle Koordinatenliste in Bild (Hintergrund schwarz)\n",
        "    Eingabe: \n",
        "        data: Liste mit Koordinaten und Farbwerten\n",
        "            [10, 5, 0.1] wäre beispielsweise die \"Farbe\" 0.1 in Zeile 10, Spalte 5\n",
        "    Ausgabe:\n",
        "        img: Matrix mit befüllten Farbwerten\n",
        "    \"\"\"\n",
        "    img = np.zeros(np.max(data, axis=0).astype(np.intc)[:-1]+1)\n",
        "    img[data[:,0].astype(np.intc), data[:,1].astype(np.intc)] = data[:,2]\n",
        "    img /= np.max(img)\n",
        "    return img\n",
        "\n",
        "def drawdatboi(data, schritte=None):\n",
        "    img = getimg(data)\n",
        "    plt.figure()\n",
        "    plt.imshow(img, cmap=\"terrain\")\n",
        "    if schritte is not None:\n",
        "        plt.plot(schritte[0,1], schritte[0,0], \"rx\")\n",
        "        plt.plot(schritte[:,1], schritte[:,0], \"r\")\n",
        "        plt.plot(schritte[-1,1], schritte[-1,0], \"rx\")\n",
        "        plt.plot(75,75,\"gx\")\n",
        "    plt.axis(\"off\")\n",
        "    plt.show()\n",
        "\n"
      ]
    },
    {
      "cell_type": "code",
      "source": [
        "def f(x,y):\n",
        "    return 0\n",
        "\n",
        "\n",
        "map = np.column_stack((N/4*(mapbase+2), f(mapbase[:,0], mapbase[:,1])))\n",
        "\n",
        "print(map.shape)\n",
        "drawdatboi(map)"
      ],
      "metadata": {
        "id": "Rmahzi7XcqX5"
      },
      "execution_count": null,
      "outputs": []
    },
    {
      "cell_type": "code",
      "source": [
        "start = np.array([-2,-1])\n",
        "n_schritte = 100000\n",
        "lr = 1e-4\n",
        "schritte = np.zeros([n_schritte,2])\n",
        "schritte[0] = start\n",
        "\n",
        "for i in range(1, n_schritte):\n",
        "    pass\n",
        "drawdatboi(map, N/4*(schritte+2))"
      ],
      "metadata": {
        "id": "Hid7RuAGAJSW"
      },
      "execution_count": null,
      "outputs": []
    }
  ]
}