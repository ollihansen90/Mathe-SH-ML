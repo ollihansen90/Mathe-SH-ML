{
  "nbformat": 4,
  "nbformat_minor": 0,
  "metadata": {
    "colab": {
      "provenance": [],
      "authorship_tag": "ABX9TyNX6fIgBq83URdj+/fc5DH7",
      "include_colab_link": true
    },
    "kernelspec": {
      "name": "python3",
      "display_name": "Python 3"
    },
    "language_info": {
      "name": "python"
    }
  },
  "cells": [
    {
      "cell_type": "markdown",
      "metadata": {
        "id": "view-in-github",
        "colab_type": "text"
      },
      "source": [
        "<a href=\"https://colab.research.google.com/github/ollihansen90/Mathe-SH-ML/blob/main/Rentiere_vs_Caribous_Musterl%C3%B6sung.ipynb\" target=\"_parent\"><img src=\"https://colab.research.google.com/assets/colab-badge.svg\" alt=\"Open In Colab\"/></a>"
      ]
    },
    {
      "cell_type": "markdown",
      "source": [
        "# ⛄ Mathe^SH 🍪 Projekt Deep-Learning 🥳 Weihnachtsaufgabe ⛄\n",
        "\n",
        "## Rentier vs. Caribou\n",
        "<img src=\"https://github.com/ollihansen90/Mathe-SH-ML/blob/main/rentiervscaribou.png?raw=true\" width=\"100%\"/>\n",
        "\n",
        "Dem Weihnachtsmann sind seine neun Rentiere entlaufen! Nach dem Füttern hat er vergessen, den Stall wieder abzuschließen, sodass Dasher, Dancer, Prancer, Vixen, Comet, Cupid, Donner, Blitzen und Rudolph rausgehen konnten, um im Schnee zu spielen. Leider haben sie nicht rechtzeitig zurückgefunden und mussten die Nacht draußen im Wald verbringen.\n",
        "\n",
        "Glücklicherweise wurden sie von einer Herde Caribous aufgenommen, sodass sie die kalte Nacht gut überstehen konnten. Caribous gehören wie Rentiere ebenfalls zur Familie der Hirsche und sind deswegen vom Weihnachtsmann schwer auseinanderzuhalten. \n",
        "\n",
        "Der Weihnachtsmann bittet sofort seine Elfen, die magische Vermessungsmaschine anzuwerfen, um sämtliche Tiere der großen Herde von vorne bis hinten auszumessen. Die magische Vermessungsmaschine kann die Schulterhöhe (in m), Länge (in m), das Gewicht (in kg), Hufbreite (in cm), Fellfarbe (in RGB, also Rot-, Grün- und Blau-Kanal, Werte zwischen 0 (Schwarz) und 1 (Weiß) pro Kanal), Alter (in Jahren) und Felldichte (in Haare/cm^2) aufnehmen.\n",
        "\n",
        "Schaffen wir es, einen linearen Klassifizierer zu trainieren, der aus der Liste der 100 Tiere die 9 Rentiere des Weihnachtsmannes findet?\n",
        "\n",
        "### Gegebene Daten:\n",
        "Geladen wird ein Numpy-Array `data_train`, in dem zeilenweise 10.000 Tierdaten mit 9 Variablen stehen. Es handelt sich also um eine $10.000\\times9$-Matrix. Die Hälfte der Tiere sind Rentiere und die andere Hälfte sind Caribous, die der Weihnachtsmann aus anderen Herden (mit Labeln) generieren konnte.\n",
        "\n",
        "Das Numpy-Array `data_test` enthält die Testdaten, in dem 100 Tiere stehen, von denen nur 9 Rentiere sind. Auch hier sind Label gegeben, allerdings sollten die auf keinen Fall zum Training benutzt werden.\n",
        "\n",
        "Die Label bestehen aus `1` für \"Rentier\" und `0` für \"Caribou\"."
      ],
      "metadata": {
        "id": "3fHjYuEvTRLG"
      }
    },
    {
      "cell_type": "code",
      "execution_count": 1,
      "metadata": {
        "colab": {
          "base_uri": "https://localhost:8080/",
          "height": 931
        },
        "id": "vEhh1958S2pe",
        "outputId": "effcc5eb-d01c-4ceb-e8d6-c8d4434480e7"
      },
      "outputs": [
        {
          "output_type": "stream",
          "name": "stdout",
          "text": [
            "Cloning into 'Mathe-SH_RvC_Weihnachten'...\n",
            "remote: Enumerating objects: 18, done.\u001b[K\n",
            "remote: Counting objects: 100% (18/18), done.\u001b[K\n",
            "remote: Compressing objects: 100% (16/16), done.\u001b[K\n",
            "remote: Total 18 (delta 4), reused 0 (delta 0), pack-reused 0\u001b[K\n",
            "Unpacking objects: 100% (18/18), done.\n",
            "(10000, 9)\n",
            "(100, 9)\n",
            "(10000,)\n",
            "(100,)\n",
            "Tier: Rentier\n",
            "Schulterhöhe: 1.81 m\n",
            "Länge: 1.96 m\n",
            "Gewicht: 149.68 kg\n",
            "Hufbreite: 18.5 cm\n",
            "Alter: 22.29 Jahre\n",
            "Felldichte: 146.84 Haare/cm^2\n",
            "Fellfarbe:\n"
          ]
        },
        {
          "output_type": "display_data",
          "data": {
            "text/plain": [
              "<Figure size 432x288 with 1 Axes>"
            ],
            "image/png": "[encoded data removed]"
          },
          "metadata": {
            "needs_background": "light"
          }
        },
        {
          "output_type": "stream",
          "name": "stdout",
          "text": [
            "Tier: Caribou\n",
            "Schulterhöhe: 1.37 m\n",
            "Länge: 1.97 m\n",
            "Gewicht: 117.12 kg\n",
            "Hufbreite: 17.2 cm\n",
            "Alter: 16.92 Jahre\n",
            "Felldichte: 125.98 Haare/cm^2\n",
            "Fellfarbe:\n"
          ]
        },
        {
          "output_type": "display_data",
          "data": {
            "text/plain": [
              "<Figure size 432x288 with 1 Axes>"
            ],
            "image/png": "[encoded data removed]"
          },
          "metadata": {
            "needs_background": "light"
          }
        }
      ],
      "source": [
        "import sys, os\n",
        "if 'google.colab' in sys.modules:\n",
        "    if os.getcwd() == '/content':\n",
        "        !git clone 'https://github.com/ollihansen90/Mathe-SH_RvC_Weihnachten.git'\n",
        "        os.chdir(\"Mathe-SH_RvC_Weihnachten\")\n",
        "\n",
        "import numpy as np\n",
        "from utils import steckbrief\n",
        "\n",
        "data_train = np.load(\"data_train.npy\")\n",
        "print(data_train.shape)\n",
        "data_test = np.load(\"data_test.npy\")\n",
        "print(data_test.shape)\n",
        "label_train = np.load(\"label_train.npy\")\n",
        "print(label_train.shape)\n",
        "label_test = np.load(\"label_test.npy\")\n",
        "print(label_test.shape)\n",
        "\n",
        "steckbrief(data_train[0], label_train[0])\n",
        "steckbrief(data_train[-2], label_train[-2])"
      ]
    },
    {
      "cell_type": "markdown",
      "source": [
        "### Hinweise:\n",
        "Lineare Klassifizierer haben immer die Form \n",
        "$$w_1\\cdot x_1+w_2\\cdot x_2+\\ldots+w_n\\cdot x_n +b\\geq0,$$\n",
        "bei der die Gewichte als Vektor $w$ und der Bias als Parameter $b$ übergeben wird (manchmal hat das `b` ein negatives Vorzeichen, das kann aber automatisch vom Klassifizierer gelernt werden). Alternativ kann die Schreibweise mit Skalarprodukt genutzt werden:\n",
        "$$w^Tx+b\\geq0.$$\n",
        "Zum Training sollten wir zur Aktivierung die Sigmoid-Funktion verwenden:\n",
        "$$\\sigma(x)=\\frac{1}{1+e^{-x}}.$$\n",
        "\n",
        "Solltest du ansonsten gar keinen Ansatz finden, kannst du gerne nochmal in eins unserer alten Notebooks gucken: \n",
        "\n",
        "https://github.com/ollihansen90/Mathe-SH-ML/blob/main/LinClass.ipynb"
      ],
      "metadata": {
        "id": "qEyOTL94VSKk"
      }
    },
    {
      "cell_type": "code",
      "source": [
        "import matplotlib.pyplot as plt\n",
        "\n",
        "def normalize_data(data):\n",
        "    data = data-np.mean(data, axis=0)\n",
        "    data = data/(np.std(data, axis=0)+0.00001)\n",
        "    return data\n",
        "\n",
        "data = normalize_data(data_train)\n",
        "\n",
        "# Initialisiere Gewichte\n",
        "w = np.random.randn(9)\n",
        "dw = np.zeros(9)\n",
        "b = np.random.randn(1)\n",
        "db = 0\n",
        "\n",
        "# Beispiel einer Klassifikation:\n",
        "#datenpunkt = data_train[0]\n",
        "#print(np.sign(w@datenpunkt+b)>=0) # \"True\" für Klasse 1 (Rentier), \"False\" für Klasse 0 (Caribou)\n",
        "\n",
        "f = lambda x, w, b: x@w+b\n",
        "s = lambda x: 1/(1+np.exp(-x))\n",
        "ds = lambda x: s(x)*(1-s(x))\n",
        "\n",
        "n_epochs = 3000\n",
        "lossliste = np.zeros(n_epochs)\n",
        "lr = 1e-1\n",
        "\n",
        "for epoch in range(n_epochs):\n",
        "    output = f(data, w, b)\n",
        "    prediction = s(output)\n",
        "    loss = np.mean((prediction-label_train)**2)\n",
        "    lossliste[epoch] = loss\n",
        "    \n",
        "    for i in range(len(dw)):\n",
        "        dw[i] = 2*np.mean((prediction-label_train)*ds(prediction)*data[:,i])\n",
        "    db = 2*np.mean((prediction-label_train)*ds(prediction))*-1\n",
        "    w = w - lr*dw\n",
        "    b = b - lr*db\n",
        "\n",
        "    if epoch%500==0:\n",
        "        accuracy = np.mean(np.round(prediction)==label_train)\n",
        "        print(epoch, loss, accuracy)\n",
        "\n",
        "plt.figure()\n",
        "plt.plot(lossliste)\n",
        "plt.show()"
      ],
      "metadata": {
        "colab": {
          "base_uri": "https://localhost:8080/",
          "height": 369
        },
        "id": "WZCwtX36W8rn",
        "outputId": "325323ce-85be-4742-a29c-00ac5c0f1816"
      },
      "execution_count": 26,
      "outputs": [
        {
          "output_type": "stream",
          "name": "stdout",
          "text": [
            "0 0.2947151071959647 0.5168\n",
            "500 0.0017048061915183091 0.9994\n",
            "1000 0.0006195792749102304 1.0\n",
            "1500 0.0003380676901429458 1.0\n",
            "2000 0.00021811964938909316 1.0\n",
            "2500 0.00015444910478080315 1.0\n"
          ]
        },
        {
          "output_type": "display_data",
          "data": {
            "text/plain": [
              "<Figure size 432x288 with 1 Axes>"
            ],
            "image/png": "[encoded data removed]"
          },
          "metadata": {
            "needs_background": "light"
          }
        }
      ]
    }
  ]
}