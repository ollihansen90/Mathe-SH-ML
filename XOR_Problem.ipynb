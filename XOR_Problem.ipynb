{
  "nbformat": 4,
  "nbformat_minor": 0,
  "metadata": {
    "colab": {
      "provenance": [],
      "authorship_tag": "ABX9TyPQ40kfj6FQPygW2e5d34QT",
      "include_colab_link": true
    },
    "kernelspec": {
      "name": "python3",
      "display_name": "Python 3"
    },
    "language_info": {
      "name": "python"
    }
  },
  "cells": [
    {
      "cell_type": "markdown",
      "metadata": {
        "id": "view-in-github",
        "colab_type": "text"
      },
      "source": [
        "<a href=\"https://colab.research.google.com/github/ollihansen90/Mathe-SH-ML/blob/main/XOR_Problem.ipynb\" target=\"_parent\"><img src=\"https://colab.research.google.com/assets/colab-badge.svg\" alt=\"Open In Colab\"/></a>"
      ]
    },
    {
      "cell_type": "code",
      "execution_count": 1,
      "metadata": {
        "id": "XFl1gV7yjCO0"
      },
      "outputs": [],
      "source": [
        "import numpy as np\n",
        "import matplotlib.pyplot as plt"
      ]
    },
    {
      "cell_type": "code",
      "source": [
        "data = np.array([\n",
        "    [0,0], # 0\n",
        "    [1,0], # 1\n",
        "    [0,1], # 2\n",
        "    [1,1], # 3\n",
        "])\n",
        "\n",
        "label = np.array([0, 1, 1, 0])\n",
        "\n",
        "plt.figure()\n",
        "plt.plot(data[label==0, 0], data[label==0,1], \"bo\")\n",
        "plt.plot(data[label==1, 0], data[label==1,1], \"ro\")\n",
        "plt.show()"
      ],
      "metadata": {
        "colab": {
          "base_uri": "https://localhost:8080/",
          "height": 265
        },
        "id": "Hg9UCD1XjQ60",
        "outputId": "96a09c73-e5e4-4ae8-ffa9-b5425f0f8c99"
      },
      "execution_count": 5,
      "outputs": [
        {
          "output_type": "display_data",
          "data": {
            "text/plain": [
              "<Figure size 432x288 with 1 Axes>"
            ],
            "image/png": "[encoded data removed]"
          },
          "metadata": {
            "needs_background": "light"
          }
        }
      ]
    },
    {
      "cell_type": "code",
      "source": [
        "f1 = lambda x: 1*((-x[0]-x[1]+3/2)>0)\n",
        "f2 = lambda x: 1*((x[0]+x[1]-1/2)>0)\n",
        "\n",
        "neue_label1 = []\n",
        "neue_label2 = []\n",
        "for point in data:\n",
        "    neue_label1.append(f1(point))\n",
        "    neue_label2.append(f2(point))\n",
        "\n",
        "neue_label1 = np.array(neue_label1)\n",
        "neue_label2 = np.array(neue_label2)\n",
        "plt.figure()\n",
        "plt.plot(data[neue_label1==0, 0], data[neue_label1==0,1], \"bo\")\n",
        "plt.plot(data[neue_label1==1, 0], data[neue_label1==1,1], \"ro\")\n",
        "plt.show()\n",
        "plt.figure()\n",
        "plt.plot(data[neue_label2==0, 0], data[neue_label2==0,1], \"bo\")\n",
        "plt.plot(data[neue_label2==1, 0], data[neue_label2==1,1], \"ro\")\n",
        "plt.show()"
      ],
      "metadata": {
        "colab": {
          "base_uri": "https://localhost:8080/",
          "height": 513
        },
        "id": "bBt2YylhnzQd",
        "outputId": "024caa0a-76f7-49d7-85a6-fa018a2d8140"
      },
      "execution_count": 16,
      "outputs": [
        {
          "output_type": "display_data",
          "data": {
            "text/plain": [
              "<Figure size 432x288 with 1 Axes>"
            ],
            "image/png": "[encoded data removed]"
          },
          "metadata": {
            "needs_background": "light"
          }
        },
        {
          "output_type": "display_data",
          "data": {
            "text/plain": [
              "<Figure size 432x288 with 1 Axes>"
            ],
            "image/png": "[encoded data removed]"
          },
          "metadata": {
            "needs_background": "light"
          }
        }
      ]
    },
    {
      "cell_type": "code",
      "source": [
        "neue_punkte = []\n",
        "for point in data:\n",
        "    neue_punkte.append([f1(point), f2(point)])\n",
        "\n",
        "neue_punkte = np.array(neue_punkte)\n",
        "plt.figure()\n",
        "plt.plot(neue_punkte[label==0, 0], neue_punkte[label==0,1], \"bo\")\n",
        "plt.plot(neue_punkte[label==1, 0], neue_punkte[label==1,1], \"ro\")\n",
        "plt.show()"
      ],
      "metadata": {
        "colab": {
          "base_uri": "https://localhost:8080/",
          "height": 265
        },
        "id": "Zv7YT5NcpyXs",
        "outputId": "3e9a0489-31c2-40a0-a6d9-cb2b1900d80b"
      },
      "execution_count": 17,
      "outputs": [
        {
          "output_type": "display_data",
          "data": {
            "text/plain": [
              "<Figure size 432x288 with 1 Axes>"
            ],
            "image/png": "[encoded data removed]"
          },
          "metadata": {
            "needs_background": "light"
          }
        }
      ]
    },
    {
      "cell_type": "code",
      "source": [
        "g = lambda x: 1*((x[0]+x[1]-3/2)>=0)\n",
        "\n",
        "aktivierung = lambda x: 1*(x>0)\n",
        "nn = lambda x: aktivierung(aktivierung(x@np.array([[-1,1], [-1,1]])+np.array([3/2,-1/2]))@np.array([1,1])-3/2)\n",
        "for point in data:\n",
        "    print(point, nn(point))\n",
        "print(label) \n",
        "\n",
        "# Multilayer Perceptron"
      ],
      "metadata": {
        "colab": {
          "base_uri": "https://localhost:8080/"
        },
        "id": "-6wzoq65qX5d",
        "outputId": "400bd5fb-c0e3-4a12-97fc-76e0af92bd9f"
      },
      "execution_count": 26,
      "outputs": [
        {
          "output_type": "stream",
          "name": "stdout",
          "text": [
            "[0 0] 0\n",
            "[1 0] 1\n",
            "[0 1] 1\n",
            "[1 1] 0\n",
            "[0 1 1 0]\n"
          ]
        }
      ]
    }
  ]
}