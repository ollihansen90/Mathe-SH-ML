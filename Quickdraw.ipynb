{
  "nbformat": 4,
  "nbformat_minor": 0,
  "metadata": {
    "colab": {
      "provenance": [],
      "authorship_tag": "ABX9TyNF3x7/LmJepV31C2a8yHq4",
      "include_colab_link": true
    },
    "kernelspec": {
      "name": "python3",
      "display_name": "Python 3"
    },
    "language_info": {
      "name": "python"
    },
    "accelerator": "GPU",
    "gpuClass": "standard"
  },
  "cells": [
    {
      "cell_type": "markdown",
      "metadata": {
        "id": "view-in-github",
        "colab_type": "text"
      },
      "source": [
        "<a href=\"https://colab.research.google.com/github/ollihansen90/Mathe-SH-ML/blob/main/Quickdraw.ipynb\" target=\"_parent\"><img src=\"https://colab.research.google.com/assets/colab-badge.svg\" alt=\"Open In Colab\"/></a>"
      ]
    },
    {
      "cell_type": "markdown",
      "source": [
        "# Quickdraw-CNN"
      ],
      "metadata": {
        "id": "CQYRNjk1gTg9"
      }
    },
    {
      "cell_type": "markdown",
      "source": [
        "https://quickdraw.withgoogle.com/"
      ],
      "metadata": {
        "id": "-LG_Jp85x10K"
      }
    },
    {
      "cell_type": "markdown",
      "source": [
        "## Setup"
      ],
      "metadata": {
        "id": "qtZh5LVngWlw"
      }
    },
    {
      "cell_type": "code",
      "source": [
        "!wget https://raw.githubusercontent.com/ollihansen90/Mathe-SH-ML/main/quickdraw_cnn_utils.py\n",
        "\n",
        "import torch\n",
        "import torch.nn as nn\n",
        "import torch.nn.functional as F\n",
        "from torch.utils.data import Dataset, DataLoader\n",
        "\n",
        "import requests, io, sys\n",
        "\n",
        "import matplotlib.pyplot as plt\n",
        "import numpy as np\n",
        "from PIL import Image\n",
        "\n",
        "device = \"cuda\" if torch.cuda.is_available() else \"cpu\"\n",
        "print(\"Using\", device)"
      ],
      "metadata": {
        "colab": {
          "base_uri": "https://localhost:8080/"
        },
        "id": "Un4h0z4NPmZn",
        "outputId": "8aeedb39-ccc7-4dad-9595-9f0b231539ae"
      },
      "execution_count": null,
      "outputs": [
        {
          "output_type": "stream",
          "name": "stdout",
          "text": [
            "--2023-02-21 19:46:35--  https://raw.githubusercontent.com/ollihansen90/Mathe-SH-ML/main/quickdraw_cnn_utils.py\n",
            "Resolving raw.githubusercontent.com (raw.githubusercontent.com)... 185.199.110.133, 185.199.108.133, 185.199.109.133, ...\n",
            "Connecting to raw.githubusercontent.com (raw.githubusercontent.com)|185.199.110.133|:443... connected.\n",
            "HTTP request sent, awaiting response... 200 OK\n",
            "Length: 6925 (6.8K) [text/plain]\n",
            "Saving to: ‘quickdraw_cnn_utils.py’\n",
            "\n",
            "quickdraw_cnn_utils 100%[===================>]   6.76K  --.-KB/s    in 0s      \n",
            "\n",
            "2023-02-21 19:46:35 (68.1 MB/s) - ‘quickdraw_cnn_utils.py’ saved [6925/6925]\n",
            "\n"
          ]
        }
      ]
    },
    {
      "cell_type": "code",
      "source": [
        "from quickdraw_cnn_utils import MasterDset, Dset, make_prediction_canvas, predict_func\n",
        "canvas_size = (280, 280)\n",
        "if 'google.colab' in sys.modules:\n",
        "    from google.colab import output\n",
        "    output.register_callback('predict_func', predict_func)\n",
        "\n",
        "import numpy as np\n",
        "import torch\n",
        "import sys\n",
        "from PIL import Image\n",
        "from time import time\n",
        "\n",
        "canvas_size = (280, 280)\n",
        "from IPython.core.display import display, HTML\n",
        "\n",
        "def make_prediction_canvas(canvas_size, prediction_func_name):\n",
        "        canvas_html = '''\n",
        "<div>\n",
        "<p>Drawing canvas:</p>\n",
        "<canvas id=\"canvas\" width=\"''' + str(canvas_size[0]) + '''\" height=\"''' + str(canvas_size[1]) + '''\" style=\"border: 5px solid black\"></canvas>\n",
        "<button onclick=\"predict()\">Predict</button>\n",
        "<button onclick=\"clear_canvas()\">Clear canvas</button>\n",
        "<p id=\"predictionfield\">Prediction:</p>\n",
        "</div>\n",
        "<script type=\"text/Javascript\">\n",
        "function prediction_callback(data){\n",
        "    if (data.msg_type === 'execute_result') {\n",
        "        document.getElementById(\"predictionfield\").innerHTML = \"Prediction: \" + data.content.data['text/plain']\n",
        "        /*$('#predictionfield').html(\"Prediction: \" + data.content.data['text/plain'])*/\n",
        "    } else {\n",
        "        console.log(data)\n",
        "    }\n",
        "}\n",
        "function predict(){\n",
        "    var imgData = ctx.getImageData(0, 0, ctx.canvas.width, ctx.canvas.height);\n",
        "    imgData = Array.prototype.slice.call(imgData.data).filter(function (data, idx) { return idx % 4 == 3; })\n",
        "    var kernelAPI = undefined\n",
        "    try {\n",
        "      //check if defined\n",
        "      if (IPython) {\n",
        "        kernelAPI = \"IPython\"\n",
        "      }\n",
        "    } catch(err) {\n",
        "    }\n",
        "    try {\n",
        "      //check if defined\n",
        "      if (google) {\n",
        "        kernelAPI = \"google\"\n",
        "      }\n",
        "    } catch(err) {\n",
        "    }\n",
        "    if (kernelAPI === \"IPython\") {\n",
        "        var command = \"''' + prediction_func_name + '''(\" + JSON.stringify(imgData) + \")\"\n",
        "        document.getElementById(\"predictionfield\").innerHTML = \"Prediction: calculating...\"\n",
        "        /*$('#predictionfield').html(\"Prediction: calculating...\")*/\n",
        "        var kernel = IPython.notebook.kernel;\n",
        "        kernel.execute(command, {iopub: {output: prediction_callback}}, {silent: false});\n",
        "    } else if (kernelAPI === \"google\") {\n",
        "        google.colab.kernel.invokeFunction(\"''' + prediction_func_name + '''\", [imgData], {})\n",
        "        .then(function(result) {\n",
        "            prediction_callback({msg_type: 'execute_result', content: {data: result.data}})\n",
        "        })\n",
        "    } else {\n",
        "        console.error('no kernel api found to invoke predictions!')\n",
        "    }\n",
        "}\n",
        "canvas = document.getElementById('canvas')\n",
        "ctx = canvas.getContext(\"2d\")\n",
        "var clickX = new Array();\n",
        "var clickY = new Array();\n",
        "var clickDrag = new Array();\n",
        "var paint;\n",
        "function clear_canvas() {    \n",
        "    clickX = new Array();\n",
        "    clickY = new Array();\n",
        "    clickDrag = new Array();\n",
        "    \n",
        "    redraw();\n",
        "    document.getElementById(\"predictionfield\").innerHTML = \"Prediction: \";\n",
        "}\n",
        "function addClick(x, y, dragging)\n",
        "{\n",
        "  clickX.push(x);\n",
        "  clickY.push(y);\n",
        "  clickDrag.push(dragging);\n",
        "}\n",
        "var canvas = document.getElementById(\"canvas\")\n",
        "/*$('#canvas').mousedown(*/\n",
        "canvas.addEventListener('mousedown', function(e){\n",
        "  var boundingRect = canvas.getBoundingClientRect()\n",
        "  var mouseX = e.pageX - boundingRect.left;\n",
        "  var mouseY = e.pageY - boundingRect.top;\n",
        "  \n",
        "  paint = true;\n",
        "  addClick(mouseX, mouseY);\n",
        "  redraw();\n",
        "});\n",
        "/*$('#canvas').mousemove(*/\n",
        "canvas.addEventListener('mousemove', function(e){\n",
        "  if(paint){\n",
        "    var boundingRect = canvas.getBoundingClientRect()\n",
        "    addClick(e.pageX - boundingRect.left, e.pageY - boundingRect.top, true);\n",
        "    redraw();\n",
        "  }\n",
        "});\n",
        "/*$('#canvas').mouseup(*/\n",
        "canvas.addEventListener('mouseup', function(e){\n",
        "  paint = false;\n",
        "});\n",
        "/*$('#canvas').mouseleave(*/\n",
        "canvas.addEventListener('mouseleave', function(e){\n",
        "  paint = false;\n",
        "});\n",
        "function redraw(){\n",
        "  ctx.clearRect(0, 0, ctx.canvas.width, ctx.canvas.height); // Clears the canvas\n",
        "  \n",
        "  ctx.strokeStyle = '#000000';//\"#df4b26\";\n",
        "  ctx.lineJoin = \"round\";\n",
        "  ctx.lineWidth = 10;\n",
        "  for(var i=0; i < clickX.length; i++) {\n",
        "    ctx.beginPath();\n",
        "    if(clickDrag[i] && i){\n",
        "      ctx.moveTo(clickX[i-1], clickY[i-1]);\n",
        "     }else{\n",
        "       ctx.moveTo(clickX[i]-1, clickY[i]);\n",
        "     }\n",
        "     ctx.lineTo(clickX[i], clickY[i]);\n",
        "     ctx.closePath();\n",
        "     ctx.stroke();\n",
        "  }\n",
        "}\n",
        "</script>\n",
        "'''\n",
        "        display(HTML(canvas_html)) \n",
        "\n",
        "def predict_func(img_data):\n",
        "    #transform the list into a 2d array\n",
        "    img_data = np.asarray(img_data, dtype=np.float32).reshape(*canvas_size)\n",
        "    #transform the numpy array into a torch tensor\n",
        "    x = torch.tensor(img_data, dtype=torch.float).to(device)\n",
        "    x /= 255\n",
        "    #move it to the GPU is possible\n",
        "    #scale it down from 280x280 to 28x28 pixels using bilinear interpolation\n",
        "    x = torch.nn.functional.interpolate(x.unsqueeze_(dim=0).unsqueeze_(dim=1), size=(28, 28), mode='bilinear', align_corners=True).squeeze_(dim=1).squeeze_(dim=0)\n",
        "    #flip dimensions to match dataset\n",
        "    #x = x.transpose(0, 1)\n",
        "    #add a batch dimension with batch_size=1\n",
        "    x.unsqueeze_(dim=0)\n",
        "    #add a color dimension with color channel count=1\n",
        "    x.unsqueeze_(dim=1)\n",
        "    x[x>0.5] = 1\n",
        "    x[x<=0.5] = 0\n",
        "    #plt.figure()\n",
        "    #plt.imshow(x.squeeze().detach().cpu().numpy())\n",
        "    #plt.show()\n",
        "    #print(torch.min(x), torch.max(x))\n",
        "    #switch model to evaluation mode (only necessary for some modules like dropout and batch normalization, but better to always have it rather than forget it when needed)\n",
        "    model.eval()\n",
        "    #predict the label for the input\n",
        "    global out\n",
        "    with torch.no_grad():#we don't want to store information for gradient computation\n",
        "        out = model(x)\n",
        "    #get the most likely label\n",
        "    #print(F.softmax(out, dim=-1))\n",
        "    pred_label = out.argmax(1)\n",
        "    #print(pred_label)\n",
        "    pred_label = pred_label.item()\n",
        "    #Image.fromarry(img_data).save(\"images/\"+str(time())+\"_\"+str(pred_label)+\".png\")\n",
        "    #return the predicted class name to the HTML-framework (to be displayed below)\n",
        "    return DS_test.labelnames[pred_label]\n",
        "\n",
        "#create the prediction canvas and make it use the prediction function defined above\n",
        "if 'google.colab' in sys.modules:\n",
        "    from google.colab import output\n",
        "    output.register_callback('predict_func', predict_func)"
      ],
      "metadata": {
        "id": "YMqIiY0jSctJ"
      },
      "execution_count": null,
      "outputs": []
    },
    {
      "cell_type": "markdown",
      "source": [
        "## Datensatz\n",
        "\n",
        "https://console.cloud.google.com/storage/browser/quickdraw_dataset/full/numpy_bitmap"
      ],
      "metadata": {
        "id": "DmPd4xRZgZ1j"
      }
    },
    {
      "cell_type": "code",
      "source": [
        "linklist = [\n",
        "            \"https://storage.googleapis.com/quickdraw_dataset/full/numpy_bitmap/butterfly.npy\",\n",
        "            \"https://storage.googleapis.com/quickdraw_dataset/full/numpy_bitmap/camera.npy\",\n",
        "            \"https://storage.googleapis.com/quickdraw_dataset/full/numpy_bitmap/cup.npy\",\n",
        "            \"https://storage.googleapis.com/quickdraw_dataset/full/numpy_bitmap/duck.npy\",\n",
        "            \"https://storage.googleapis.com/quickdraw_dataset/full/numpy_bitmap/mouse.npy\",\n",
        "            \"https://storage.googleapis.com/quickdraw_dataset/full/numpy_bitmap/owl.npy\",\n",
        "            \"https://storage.googleapis.com/quickdraw_dataset/full/numpy_bitmap/pineapple.npy\",\n",
        "            \"https://storage.googleapis.com/quickdraw_dataset/full/numpy_bitmap/sea%20turtle.npy\",\n",
        "            \"https://storage.googleapis.com/quickdraw_dataset/full/numpy_bitmap/sheep.npy\",\n",
        "            \"https://storage.googleapis.com/quickdraw_dataset/full/numpy_bitmap/snowman.npy\",\n",
        "            \"https://storage.googleapis.com/quickdraw_dataset/full/numpy_bitmap/sun.npy\",\n",
        "            \"https://storage.googleapis.com/quickdraw_dataset/full/numpy_bitmap/swan.npy\",\n",
        "            \"https://storage.googleapis.com/quickdraw_dataset/full/numpy_bitmap/umbrella.npy\",\n",
        "            ]\n",
        "labelnames = [\n",
        "            \"Schmetterling\",\n",
        "            \"Kamera\",\n",
        "            \"Becher\",\n",
        "            \"Ente\",\n",
        "            \"Maus\",\n",
        "            \"Eule\",\n",
        "            \"Ananas\",\n",
        "            \"Schildkröte\",\n",
        "            \"Schaf\",\n",
        "            \"Schneemann\",\n",
        "            \"Sonne\",\n",
        "            \"Schwan\",\n",
        "            \"Regenschirm\",\n",
        "            ]\n",
        "\n",
        "DS_train, DS_test = MasterDset(n_imgs=20_000, n_test=1000, linklist=linklist, labelnames=labelnames)\n",
        "print(len(DS_train), len(DS_test))"
      ],
      "metadata": {
        "id": "cIAQnaCJP8Tl"
      },
      "execution_count": null,
      "outputs": []
    },
    {
      "cell_type": "code",
      "source": [
        "dataloader_train = DataLoader(DS_train, batch_size=16, shuffle=True)\n",
        "\n",
        "batch, label = next(iter(dataloader_train))\n",
        "\n",
        "print(label)\n",
        "plt.figure(figsize=[15,15])\n",
        "for i in range(16):\n",
        "    plt.subplot(4,4,i+1)\n",
        "    plt.imshow(batch[i].squeeze().numpy())\n",
        "    plt.title(DS_train.labelnames[int(label[i])])"
      ],
      "metadata": {
        "colab": {
          "base_uri": "https://localhost:8080/",
          "height": 880
        },
        "id": "e2VxnFdnTjXJ",
        "outputId": "16fd7d41-6fd9-4864-b57e-b2719e323705"
      },
      "execution_count": null,
      "outputs": [
        {
          "output_type": "stream",
          "name": "stdout",
          "text": [
            "tensor([ 1.,  4., 12.,  3., 12.,  2.,  5.,  4.,  4.,  0.,  8.,  3.,  5.,  8.,\n",
            "         6.,  5.])\n"
          ]
        },
        {
          "output_type": "display_data",
          "data": {
            "text/plain": [
              "<Figure size 1080x1080 with 16 Axes>"
            ],
            "image/png": "[encoded data removed]"
          },
          "metadata": {
            "needs_background": "light"
          }
        }
      ]
    },
    {
      "cell_type": "markdown",
      "source": [
        "## Model"
      ],
      "metadata": {
        "id": "rgZepiNVgcpQ"
      }
    },
    {
      "cell_type": "code",
      "execution_count": null,
      "metadata": {
        "id": "OI2TLJqWPVS9"
      },
      "outputs": [],
      "source": [
        "class CNN(nn.Module):\n",
        "    def __init__(self):\n",
        "        super().__init__()\n",
        "    \n",
        "    def forward(self, x):\n",
        "        out = x\n",
        "        return out"
      ]
    },
    {
      "cell_type": "markdown",
      "source": [
        "## Training"
      ],
      "metadata": {
        "id": "jXd3H5S0geux"
      }
    },
    {
      "cell_type": "code",
      "source": [
        "n_epochs = 3\n",
        "batch_size = 128\n",
        "lr = 1e-3\n",
        "betas = (0.9, 0.999)\n",
        "\n",
        "model = CNN().to(device)\n",
        "\n",
        "dataloader_train = DataLoader(DS_train, batch_size=batch_size, shuffle=True)\n",
        "dataloader_test = DataLoader(DS_test, batch_size=batch_size, shuffle=True)\n",
        "optimizer = torch.optim.Adam(model.parameters(), lr=lr, betas=betas)\n",
        "criterion = nn.CrossEntropyLoss().to(device)\n",
        "\n",
        "for epoch in range(n_epochs):\n",
        "    model.train()\n",
        "    for i, (batch, label) in enumerate(dataloader_train):\n",
        "        batch = batch.to(device)\n",
        "        label = label.to(device)\n",
        "        optimizer.zero_grad()\n",
        "        output = model(batch)\n",
        "        loss = criterion(output, label.long())\n",
        "        loss.backward()\n",
        "        optimizer.step()\n",
        "        if i%500==0:\n",
        "            print(i, loss.item(), (torch.sum(torch.argmax(output, dim=-1)==label)/len(batch)).item())\n",
        "    \n",
        "    model.eval()\n",
        "    confusion_matrix = torch.zeros([13,13])\n",
        "    acc = 0\n",
        "    for batch, label in dataloader_test:\n",
        "        batch = batch.to(device)\n",
        "        label = label.to(device)\n",
        "        output = model(batch)\n",
        "        for i in range(len(label)):\n",
        "            confusion_matrix[int(label[i]), int(torch.argmax(output[i]))] += 1\n",
        "        acc += torch.sum(torch.argmax(output, dim=-1)==label).item()\n",
        "    acc /= len(DS_test)\n",
        "    print(f\"Test-Accuracy epoch {epoch}: {acc}\")\n",
        "    plt.figure()\n",
        "    plt.imshow(confusion_matrix.detach().cpu().numpy())\n",
        "    plt.show()\n",
        "        "
      ],
      "metadata": {
        "id": "A_XnFWhTTxjH"
      },
      "execution_count": null,
      "outputs": []
    },
    {
      "cell_type": "markdown",
      "source": [
        "## Selbst malen!"
      ],
      "metadata": {
        "id": "LoMbB-HtgnEe"
      }
    },
    {
      "cell_type": "code",
      "source": [
        "make_prediction_canvas(canvas_size, \"predict_func\")"
      ],
      "metadata": {
        "id": "wDxoYlP7RnY7"
      },
      "execution_count": null,
      "outputs": []
    },
    {
      "cell_type": "code",
      "source": [
        "plt.figure()\n",
        "plt.barh(DS_train.labelnames, F.softmax(out, dim=-1).squeeze().detach().cpu().numpy())\n",
        "plt.grid()\n",
        "plt.show()\n",
        "print(torch.max(F.softmax(out, dim=-1)).item())"
      ],
      "metadata": {
        "id": "3vhtZ6FpRml2"
      },
      "execution_count": null,
      "outputs": []
    }
  ]
}