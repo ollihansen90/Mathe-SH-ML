{
  "nbformat": 4,
  "nbformat_minor": 0,
  "metadata": {
    "colab": {
      "provenance": [],
      "authorship_tag": "ABX9TyMoMcvyus+CFj0bh1GaD/rQ",
      "include_colab_link": true
    },
    "kernelspec": {
      "name": "python3",
      "display_name": "Python 3"
    },
    "language_info": {
      "name": "python"
    }
  },
  "cells": [
    {
      "cell_type": "markdown",
      "metadata": {
        "id": "view-in-github",
        "colab_type": "text"
      },
      "source": [
        "<a href=\"https://colab.research.google.com/github/ollihansen90/Mathe-SH-ML/blob/main/Ableitungen.ipynb\" target=\"_parent\"><img src=\"https://colab.research.google.com/assets/colab-badge.svg\" alt=\"Open In Colab\"/></a>"
      ]
    },
    {
      "cell_type": "code",
      "execution_count": 12,
      "metadata": {
        "colab": {
          "base_uri": "https://localhost:8080/"
        },
        "id": "G5zRLJSzKpjb",
        "outputId": "c0170d03-a968-4e23-b12d-be3cb04c565a"
      },
      "outputs": [
        {
          "output_type": "stream",
          "name": "stdout",
          "text": [
            "4\n",
            "(2, 12)\n",
            "<function f at 0x7f6ae54b1320>\n",
            "<function ableitung at 0x7f6ae54b1680>\n",
            "[0. 0. 0. 1. 0. 0. 0. 0. 0. 0.]\n"
          ]
        }
      ],
      "source": [
        "import numpy as np\n",
        "\n",
        "def f(x):\n",
        "    return x[0]**2+3*x[1]**4\n",
        "\n",
        "def del_f(x):\n",
        "    return 2*x[0], 12*x[1]**3\n",
        "\n",
        "def ableitung(funktion, x):\n",
        "    output = []\n",
        "    for i in range(len(x)):\n",
        "        abl = (f(x+onehot*h)-f(x))/h\n",
        "    return np.array(output)\n",
        "\n",
        "def onehotvector_ben(i, laenge):\n",
        "    one_hot = np.zeros(laenge)\n",
        "    one_hot[i] = 1\n",
        "    return one_hot\n",
        "\n",
        "x = np.array([1,1])\n",
        "print(f(x))\n",
        "print(del_f(x)) \n",
        "print(f)\n",
        "print(ableitung)\n",
        "ableitung(f)\n",
        "\n",
        "print(onehotvector_ben(3, 10))"
      ]
    }
  ]
}